{
 "cells": [
  {
   "cell_type": "code",
   "execution_count": 1,
   "metadata": {},
   "outputs": [],
   "source": [
    "# import the required modules\n",
    "import pyopencl as cl\n",
    "import numpy as np\n",
    "from scipy.sparse import random\n",
    "from scipy import stats\n",
    "TS  = 4\n",
    "WPT = 1                         # The amount of work-per-thread, i.e. the thread-coarsening factor\n",
    "RTS = (TS/WPT)  \n",
    "M = TS\n",
    "N = TS\n",
    "K = TS #shared dimension"
   ]
  },
  {
   "cell_type": "code",
   "execution_count": 2,
   "metadata": {},
   "outputs": [],
   "source": [
    "sparse = random(M, N, density=0.33, format=\"csr\", random_state=42, dtype = np.float32)\n",
    "sparse_to_dense = sparse.todense()\n",
    "\n",
    "np.random.seed(42)\n",
    "dense = np.random.rand(N,K).astype(np.float32)\n",
    "\n",
    "out = np.zeros((M,N), dtype=np.float32)"
   ]
  },
  {
   "cell_type": "code",
   "execution_count": 11,
   "metadata": {},
   "outputs": [
    {
     "data": {
      "text/plain": [
       "(matrix([[5.6411579e-02, 0.0000000e+00, 0.0000000e+00, 0.0000000e+00],\n",
       "         [7.2199875e-01, 9.3855274e-01, 0.0000000e+00, 9.9221158e-01],\n",
       "         [0.0000000e+00, 0.0000000e+00, 0.0000000e+00, 7.7876583e-04],\n",
       "         [0.0000000e+00, 0.0000000e+00, 0.0000000e+00, 0.0000000e+00]],\n",
       "        dtype=float32),\n",
       " array([[0.37454012, 0.9507143 , 0.7319939 , 0.5986585 ],\n",
       "        [0.15601864, 0.15599452, 0.05808361, 0.8661761 ],\n",
       "        [0.601115  , 0.7080726 , 0.02058449, 0.96990985],\n",
       "        [0.83244264, 0.21233912, 0.18182497, 0.1834045 ]], dtype=float32),\n",
       " array([[2.1128399e-02, 5.3631295e-02, 4.1292932e-02, 3.3771273e-02],\n",
       "        [1.2428085e+00, 1.0435090e+00, 7.6342207e-01, 1.4271587e+00],\n",
       "        [6.4827787e-04, 1.6536245e-04, 1.4159907e-04, 1.4282916e-04],\n",
       "        [0.0000000e+00, 0.0000000e+00, 0.0000000e+00, 0.0000000e+00]],\n",
       "       dtype=float32),\n",
       " array([[0.70754296, 0.8922955 , 0.        , 0.9438798 ],\n",
       "        [0.12142911, 0.14640908, 0.        , 0.15482481],\n",
       "        [0.5451374 , 0.6645635 , 0.        , 0.7025739 ],\n",
       "        [0.20026799, 0.19929147, 0.        , 0.21082693]], dtype=float32))"
      ]
     },
     "execution_count": 11,
     "metadata": {},
     "output_type": "execute_result"
    }
   ],
   "source": [
    "result = sparse @ dense\n",
    "sparse_to_dense, dense, result, out"
   ]
  },
  {
   "cell_type": "code",
   "execution_count": 4,
   "metadata": {},
   "outputs": [
    {
     "data": {
      "text/plain": [
       "matrix([[2.1128399e-02, 5.3631295e-02, 4.1292932e-02, 3.3771273e-02],\n",
       "        [1.2428085e+00, 1.0435090e+00, 7.6342207e-01, 1.4271587e+00],\n",
       "        [6.4827787e-04, 1.6536245e-04, 1.4159907e-04, 1.4282916e-04],\n",
       "        [0.0000000e+00, 0.0000000e+00, 0.0000000e+00, 0.0000000e+00]],\n",
       "       dtype=float32)"
      ]
     },
     "execution_count": 4,
     "metadata": {},
     "output_type": "execute_result"
    }
   ],
   "source": [
    "sparse_to_dense @ dense"
   ]
  },
  {
   "cell_type": "code",
   "execution_count": 5,
   "metadata": {},
   "outputs": [],
   "source": [
    "cntxt = cl.create_some_context()\n",
    "queue = cl.CommandQueue(cntxt)\n",
    "\n",
    "mf = cl.mem_flags\n",
    "sparse_buf = cl.Buffer(cntxt, mf.READ_ONLY | mf.COPY_HOST_PTR, hostbuf=sparse_to_dense)\n",
    "dense_buf = cl.Buffer(cntxt, mf.READ_ONLY | mf.COPY_HOST_PTR, hostbuf=dense)\n",
    "out_buf = cl.Buffer(cntxt, mf.WRITE_ONLY, out.nbytes)"
   ]
  },
  {
   "cell_type": "code",
   "execution_count": 6,
   "metadata": {},
   "outputs": [],
   "source": [
    "code = \"\"\"\n",
    "#define TS   4\n",
    "#define WPT  1                         // The amount of work-per-thread, i.e. the thread-coarsening factor\n",
    "#define RTS  (TS/WPT)  \n",
    "\n",
    "// Increased the amount of work-per-thread by a factor WPT\n",
    "__kernel void myGEMM3(const int M, const int N, const int K,\n",
    "                      const __global float* B,\n",
    "                      const __global float* A,\n",
    "                      __global float* C) {\n",
    "    \n",
    "    // Thread identifiers\n",
    "    const int row = get_local_id(0); // Local row ID (max: TS)\n",
    "    const int col = get_local_id(1); // Local col ID (max: TS/WPT == RTS)\n",
    "    const int globalRow = TS*get_group_id(0) + row; // Row ID of C (0..M)\n",
    "    const int globalCol = TS*get_group_id(1) + col; // Col ID of C (0..N)\n",
    "\n",
    "    // Local memory to fit a tile of TS*TS elements of A and B\n",
    "    __local float Asub[TS][TS];\n",
    "    __local float Bsub[TS][TS];\n",
    "\n",
    "    // Initialise the accumulation registers\n",
    "    float acc[WPT];\n",
    "    for (int w=0; w<WPT; w++) {\n",
    "        acc[w] = 0.0f;\n",
    "    }\n",
    "    \n",
    "    // Loop over all tiles\n",
    "    const int numTiles = K/TS;\n",
    "    for (int t=0; t<numTiles; t++) {\n",
    "\n",
    "        // Load one tile of A and B into local memory\n",
    "        for (int w=0; w<WPT; w++) {\n",
    "            const int tiledRow = TS*t + row;\n",
    "            const int tiledCol = TS*t + col;\n",
    "            Asub[col + w*RTS][row] = A[(tiledCol + w*RTS)*M + globalRow];\n",
    "            Bsub[col + w*RTS][row] = B[(globalCol + w*RTS)*K + tiledRow];\n",
    "        }\n",
    "\n",
    "        // Synchronise to make sure the tile is loaded\n",
    "        barrier(CLK_LOCAL_MEM_FENCE);\n",
    "\n",
    "        // Perform the computation for a single tile\n",
    "        for (int k=0; k<TS; k++) {\n",
    "            for (int w=0; w<WPT; w++) {\n",
    "                acc[w] += Asub[k][row] * Bsub[col + w*RTS][k];\n",
    "            }\n",
    "        }\n",
    "\n",
    "        // Synchronise before loading the next tile\n",
    "        barrier(CLK_LOCAL_MEM_FENCE);\n",
    "    }\n",
    "\n",
    "    // Store the final results in C\n",
    "    for (int w=0; w<WPT; w++) {\n",
    "        C[(globalCol + w*RTS)*M + globalRow] = acc[w];\n",
    "    }\n",
    "}\n",
    "\"\"\""
   ]
  },
  {
   "cell_type": "code",
   "execution_count": 7,
   "metadata": {},
   "outputs": [],
   "source": [
    "# Kernel Program\n",
    "code2 = \"\"\"\n",
    "__kernel void myGEMMX(int M, int N, const K,\n",
    "                        const __global float* mat_data, \n",
    "                        __global float* out_data)\n",
    "{\n",
    "    int i = get_global_id(0) * get_global_id(1) * 5;\n",
    "}\n",
    "\"\"\""
   ]
  },
  {
   "cell_type": "code",
   "execution_count": 8,
   "metadata": {},
   "outputs": [
    {
     "data": {
      "text/plain": [
       "((4, 4), (4, 4))"
      ]
     },
     "execution_count": 8,
     "metadata": {},
     "output_type": "execute_result"
    }
   ],
   "source": [
    "localrange = (TS,TS)\n",
    "globalrange = (M,N)\n",
    "localrange, globalrange"
   ]
  },
  {
   "cell_type": "code",
   "execution_count": 9,
   "metadata": {
    "scrolled": false
   },
   "outputs": [],
   "source": [
    "prg = cl.Program(cntxt, code).build()\n",
    "kernel = prg.myGEMM3\n",
    "kernel.set_scalar_arg_dtypes([np.int32, np.int32, np.int32, None, None, None])\n",
    "localrange = (TS,TS)\n",
    "globalrange = (M,N)\n",
    "launch = kernel(queue, globalrange, localrange, M, N, K, sparse_buf, dense_buf, out_buf)\n",
    "launch.wait()"
   ]
  },
  {
   "cell_type": "code",
   "execution_count": 10,
   "metadata": {},
   "outputs": [
    {
     "name": "stdout",
     "output_type": "stream",
     "text": [
      "Right result:\n",
      " [[2.1128399e-02 5.3631295e-02 4.1292932e-02 3.3771273e-02]\n",
      " [1.2428085e+00 1.0435090e+00 7.6342207e-01 1.4271587e+00]\n",
      " [6.4827787e-04 1.6536245e-04 1.4159907e-04 1.4282916e-04]\n",
      " [0.0000000e+00 0.0000000e+00 0.0000000e+00 0.0000000e+00]]\n",
      "Output:\n",
      " [[0.70754296 0.8922955  0.         0.9438798 ]\n",
      " [0.12142911 0.14640908 0.         0.15482481]\n",
      " [0.5451374  0.6645635  0.         0.7025739 ]\n",
      " [0.20026799 0.19929147 0.         0.21082693]]\n"
     ]
    }
   ],
   "source": [
    "cl.enqueue_copy(queue, out, out_buf).wait()\n",
    "print (\"Right result:\\n\", result)\n",
    "print (\"Output:\\n\", out)"
   ]
  },
  {
   "cell_type": "code",
   "execution_count": null,
   "metadata": {},
   "outputs": [],
   "source": []
  },
  {
   "cell_type": "code",
   "execution_count": null,
   "metadata": {},
   "outputs": [],
   "source": []
  }
 ],
 "metadata": {
  "kernelspec": {
   "display_name": "Python 3",
   "language": "python",
   "name": "python3"
  },
  "language_info": {
   "codemirror_mode": {
    "name": "ipython",
    "version": 3
   },
   "file_extension": ".py",
   "mimetype": "text/x-python",
   "name": "python",
   "nbconvert_exporter": "python",
   "pygments_lexer": "ipython3",
   "version": "3.8.3"
  }
 },
 "nbformat": 4,
 "nbformat_minor": 4
}
