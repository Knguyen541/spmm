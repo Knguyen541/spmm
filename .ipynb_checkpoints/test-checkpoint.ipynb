{
 "cells": [
  {
   "cell_type": "code",
   "execution_count": 1,
   "metadata": {},
   "outputs": [],
   "source": [
    "# https://karthikhegde.blogspot.com/2013/09/hope-you-liked-previous-introductory.html\n",
    "# import the required modules\n",
    "import pyopencl as cl\n",
    "import numpy as np"
   ]
  },
  {
   "cell_type": "code",
   "execution_count": 2,
   "metadata": {},
   "outputs": [],
   "source": [
    "#this line would create a context\n",
    "cntxt = cl.create_some_context()\n",
    "#now create a command queue in the context\n",
    "queue = cl.CommandQueue(cntxt)"
   ]
  },
  {
   "cell_type": "code",
   "execution_count": 3,
   "metadata": {},
   "outputs": [],
   "source": [
    "# create some data array to give as input to Kernel and get output\n",
    "num1 = np.array(range(10), dtype=np.float32)\n",
    "num2 = np.array(range(10), dtype=np.float32)\n",
    "out = np.empty(num1.shape, dtype=np.float32)"
   ]
  },
  {
   "cell_type": "code",
   "execution_count": 10,
   "metadata": {},
   "outputs": [
    {
     "data": {
      "text/plain": [
       "(array([[0.37454012, 0.9507143 , 0.7319939 , 0.5986585 ],\n",
       "        [0.15601864, 0.15599452, 0.05808361, 0.8661761 ],\n",
       "        [0.601115  , 0.7080726 , 0.02058449, 0.96990985],\n",
       "        [0.83244264, 0.21233912, 0.18182497, 0.1834045 ]], dtype=float32),\n",
       " array([[0.30424225, 0.52475643, 0.43194503, 0.29122913],\n",
       "        [0.6118529 , 0.13949387, 0.29214466, 0.36636186],\n",
       "        [0.45606998, 0.785176  , 0.19967379, 0.5142344 ],\n",
       "        [0.59241456, 0.04645041, 0.60754484, 0.17052412]], dtype=float32),\n",
       " array([[-2.3706189e+29,  4.5564621e-41, -2.3706189e+29,  4.5564621e-41],\n",
       "        [ 0.0000000e+00,  0.0000000e+00,  0.0000000e+00,  0.0000000e+00],\n",
       "        [ 0.0000000e+00,  1.2249856e+25,  1.8787746e+31,  1.7219863e+22],\n",
       "        [ 2.9925615e+21,  3.3461543e+21,  1.0528737e-11,  1.0751703e-05]],\n",
       "       dtype=float32))"
      ]
     },
     "execution_count": 10,
     "metadata": {},
     "output_type": "execute_result"
    }
   ],
   "source": [
    "M = 4\n",
    "N = 4\n",
    "K = 4\n",
    "\n",
    "np.random.seed(42)\n",
    "# num1 = np.random.rand(N, M)\n",
    "# num2 = np.random.rand(M, K)\n",
    "\n",
    "## https://stackoverflow.com/questions/45304157/pyopencl-multidimensional-array\n",
    "num1 = np.random.rand(N,N).astype(np.float32)\n",
    "num2 = np.random.rand(N,N).astype(np.float32)\n",
    "\n",
    "out_dims = (N,K)\n",
    "out = np.empty(num1.shape, dtype=np.float32)\n",
    "\n",
    "num1, num2, out"
   ]
  },
  {
   "cell_type": "code",
   "execution_count": 11,
   "metadata": {},
   "outputs": [],
   "source": [
    "# create the buffers to hold the values of the input\n",
    "num1_buf = cl.Buffer(cntxt, cl.mem_flags.READ_ONLY | \n",
    "cl.mem_flags.COPY_HOST_PTR,hostbuf=num1)\n",
    "num2_buf = cl.Buffer(cntxt, cl.mem_flags.READ_ONLY | \n",
    "cl.mem_flags.COPY_HOST_PTR,hostbuf=num2)\n",
    "\n",
    "# create output buffer\n",
    "out_buf = cl.Buffer(cntxt, cl.mem_flags.WRITE_ONLY, out.nbytes)"
   ]
  },
  {
   "cell_type": "code",
   "execution_count": 25,
   "metadata": {},
   "outputs": [],
   "source": [
    "# Kernel Program\n",
    "code = \"\"\"\n",
    "__kernel void frst_prog(__global float* num1, __global float* num2,__global float* out) \n",
    "{\n",
    "    int i = get_global_id(0) + get_global_id(1)*4;\n",
    "    out[i] = num1[i]*num1[i]+ num2[i]*num2[i];\n",
    "    out[i] = num1[i];\n",
    "}\n",
    "\"\"\""
   ]
  },
  {
   "cell_type": "code",
   "execution_count": 26,
   "metadata": {},
   "outputs": [],
   "source": [
    "# build the Kernel\n",
    "prg = cl.Program(cntxt, code).build()\n",
    "# Kernel is now launched\n",
    "launch = prg.frst_prog(queue, num1.shape, None, num1_buf,num2_buf,out_buf)\n",
    "# wait till the process completes\n",
    "launch.wait()"
   ]
  },
  {
   "cell_type": "code",
   "execution_count": 27,
   "metadata": {},
   "outputs": [
    {
     "name": "stdout",
     "output_type": "stream",
     "text": [
      "Number1: [[0.37454012 0.9507143  0.7319939  0.5986585 ]\n",
      " [0.15601864 0.15599452 0.05808361 0.8661761 ]\n",
      " [0.601115   0.7080726  0.02058449 0.96990985]\n",
      " [0.83244264 0.21233912 0.18182497 0.1834045 ]]\n",
      "Number2: [[0.30424225 0.52475643 0.43194503 0.29122913]\n",
      " [0.6118529  0.13949387 0.29214466 0.36636186]\n",
      " [0.45606998 0.785176   0.19967379 0.5142344 ]\n",
      " [0.59241456 0.04645041 0.60754484 0.17052412]]\n",
      "Output : [[0.37454012 0.9507143  0.7319939  0.5986585 ]\n",
      " [0.15601864 0.15599452 0.05808361 0.8661761 ]\n",
      " [0.601115   0.7080726  0.02058449 0.96990985]\n",
      " [0.83244264 0.21233912 0.18182497 0.1834045 ]]\n"
     ]
    }
   ],
   "source": [
    "cl.enqueue_copy(queue, out, out_buf).wait()\n",
    "# print the output\n",
    "print (\"Number1:\", num1)\n",
    "print (\"Number2:\", num2)\n",
    "print (\"Output :\", out)"
   ]
  },
  {
   "cell_type": "code",
   "execution_count": 24,
   "metadata": {},
   "outputs": [
    {
     "data": {
      "text/plain": [
       "(array([[0.37454012, 0.9507143 , 0.7319939 , 0.5986585 ],\n",
       "        [0.15601864, 4.        , 0.05808361, 0.8661761 ],\n",
       "        [0.601115  , 0.7080726 , 0.02058449, 0.96990985],\n",
       "        [0.83244264, 0.21233912, 0.18182497, 0.1834045 ]], dtype=float32),\n",
       " (4, 4))"
      ]
     },
     "execution_count": 24,
     "metadata": {},
     "output_type": "execute_result"
    }
   ],
   "source": [
    "out, num1.shape"
   ]
  },
  {
   "cell_type": "code",
   "execution_count": null,
   "metadata": {},
   "outputs": [],
   "source": []
  },
  {
   "cell_type": "code",
   "execution_count": null,
   "metadata": {},
   "outputs": [],
   "source": []
  }
 ],
 "metadata": {
  "kernelspec": {
   "display_name": "Python 3",
   "language": "python",
   "name": "python3"
  },
  "language_info": {
   "codemirror_mode": {
    "name": "ipython",
    "version": 3
   },
   "file_extension": ".py",
   "mimetype": "text/x-python",
   "name": "python",
   "nbconvert_exporter": "python",
   "pygments_lexer": "ipython3",
   "version": "3.8.3"
  }
 },
 "nbformat": 4,
 "nbformat_minor": 4
}
