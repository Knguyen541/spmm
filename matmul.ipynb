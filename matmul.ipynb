{
 "cells": [
  {
   "cell_type": "code",
   "execution_count": 1,
   "metadata": {},
   "outputs": [],
   "source": [
    "import pyopencl as cl\n",
    "import numpy\n",
    "from time import time\n",
    "\n",
    "C_elem_KernelSource = '''\n",
    "__kernel void mmul(\n",
    "    const int N,\n",
    "    __global float* A,\n",
    "    __global float* B,\n",
    "    __global float* C)\n",
    "{\n",
    "    int k;\n",
    "    int i = get_global_id(0);\n",
    "    int j = get_global_id(1);\n",
    "    float tmp = 0;\n",
    "    if ((i < N) && (j < N))\n",
    "    {\n",
    "        tmp = 0.0f;\n",
    "        for (k=0; k<N; k++)\n",
    "        {\n",
    "            tmp += A[i*N + k] * B[k*N + j];\n",
    "        }\n",
    "        C[i*N + j] = tmp;\n",
    "    }\n",
    "}\n",
    "'''"
   ]
  },
  {
   "cell_type": "code",
   "execution_count": 4,
   "metadata": {},
   "outputs": [],
   "source": [
    "# Order of the square matrices A, B and C\n",
    "ORDER = 1024\n",
    "\n",
    "# A elemetns are constant and equal to AVAL\n",
    "AVAL = 3.0\n",
    "\n",
    "# B elemetns are constant and equal to BVAL\n",
    "BVAL = 5.0\n",
    "\n",
    "# tolerance used in floating point comparisons\n",
    "TOL = 0.001\n",
    "\n",
    "# Max dim for NDRange\n",
    "DIM = 2\n",
    "\n",
    "# number of times to do each multiplication\n",
    "COUNT = 1"
   ]
  },
  {
   "cell_type": "code",
   "execution_count": 9,
   "metadata": {},
   "outputs": [
    {
     "name": "stdout",
     "output_type": "stream",
     "text": [
      "\n",
      "===== Sequential, matrix mult (dot prod), order 1024 on host CPU ======\n",
      "\n"
     ]
    }
   ],
   "source": [
    "N = ORDER;\n",
    "\n",
    "# Number of elements in the matrix\n",
    "size = N * N\n",
    "\n",
    "\n",
    "# A matrix\n",
    "h_A = numpy.empty(size).astype(numpy.float32)\n",
    "h_A.fill(AVAL)\n",
    "\n",
    "# B matrix\n",
    "h_B = numpy.empty(size).astype(numpy.float32)\n",
    "h_B.fill(BVAL)\n",
    "\n",
    "# C matrix\n",
    "h_C = numpy.empty(size).astype(numpy.float32)\n",
    "\n",
    "print (\"\\n===== Sequential, matrix mult (dot prod), order\", ORDER, \"on host CPU ======\\n\")"
   ]
  },
  {
   "cell_type": "code",
   "execution_count": 10,
   "metadata": {},
   "outputs": [
    {
     "name": "stdout",
     "output_type": "stream",
     "text": [
      "\n",
      "===== OpenCL, matrix mult, C(i,j) per work item, order 1024 ======\n",
      "\n"
     ]
    }
   ],
   "source": [
    "# Set up OpenCL\n",
    "context = cl.create_some_context()\n",
    "queue = cl.CommandQueue(context)\n",
    "\n",
    "# Reset host buffers - just to play it safe\n",
    "h_A = numpy.empty(size).astype(numpy.float32)\n",
    "h_A.fill(AVAL)\n",
    "h_B = numpy.empty(size).astype(numpy.float32)\n",
    "h_B.fill(BVAL)\n",
    "h_C = numpy.empty(size).astype(numpy.float32)\n",
    "\n",
    "# Create OpenCL buffers\n",
    "d_a = cl.Buffer(context, cl.mem_flags.READ_ONLY | cl.mem_flags.COPY_HOST_PTR, hostbuf=h_A)\n",
    "d_b = cl.Buffer(context, cl.mem_flags.READ_ONLY | cl.mem_flags.COPY_HOST_PTR, hostbuf=h_B)\n",
    "d_c = cl.Buffer(context, cl.mem_flags.WRITE_ONLY, h_C.nbytes)\n",
    "\n",
    "program = cl.Program(context, C_elem_KernelSource).build()\n",
    "mmul = program.mmul\n",
    "mmul.set_scalar_arg_dtypes([numpy.int32, None, None, None])\n",
    "\n",
    "print (\"\\n===== OpenCL, matrix mult, C(i,j) per work item, order\", N, \"======\\n\")"
   ]
  },
  {
   "cell_type": "code",
   "execution_count": 22,
   "metadata": {},
   "outputs": [
    {
     "data": {
      "text/plain": [
       "(array([3., 3., 3., ..., 3., 3., 3.], dtype=float32),\n",
       " array([5., 5., 5., ..., 5., 5., 5.], dtype=float32),\n",
       " array([15360., 15360., 15360., ..., 15360., 15360., 15360.], dtype=float32))"
      ]
     },
     "execution_count": 22,
     "metadata": {},
     "output_type": "execute_result"
    }
   ],
   "source": [
    "h_A, h_B, h_C"
   ]
  },
  {
   "cell_type": "code",
   "execution_count": 15,
   "metadata": {},
   "outputs": [],
   "source": [
    "#  Function to compute the matrix product (sequential algorithm, dot prod)\n",
    "def seq_mat_mul_sdot( Ndim, A, B, C):\n",
    "    for i in range(Ndim):\n",
    "        for j in range(Ndim):\n",
    "            tmp = 0.0\n",
    "            for k in range(Ndim):\n",
    "                tmp += A[i*Ndim+k] * B[k*Ndim+j]\n",
    "            C[i*Ndim+j] = tmp\n",
    "\n",
    "#  Function to compute errors of the product matrix\n",
    "def error( Ndim, C):\n",
    "   cval = float(Ndim) * AVAL * BVAL\n",
    "   errsq = 0.0\n",
    "   for i in range(Ndim):\n",
    "       for j in range(Ndim):\n",
    "            err = C[i*Ndim+j] - cval\n",
    "            errsq += err * err\n",
    "   return errsq;\n",
    "\n",
    "# Function to analyze and output results\n",
    "def results( Ndim, C, run_time):\n",
    "    mflops = ( 2.0 * (Ndim**(3)) )/(1000000.0* run_time)\n",
    "    print (run_time, \"seconds at\", mflops, \"MFLOPS\")\n",
    "    errsq = error( Ndim, C)\n",
    "    if numpy.isnan(errsq) or errsq > TOL:\n",
    "        print (\"Errors in multiplication:\", errsq)"
   ]
  },
  {
   "cell_type": "code",
   "execution_count": 16,
   "metadata": {},
   "outputs": [
    {
     "name": "stdout",
     "output_type": "stream",
     "text": [
      "0.12828779220581055 seconds at 16739.579121876366 MFLOPS\n"
     ]
    }
   ],
   "source": [
    "# Do the multiplication COUNT times\n",
    "for i in range(COUNT):\n",
    "    h_C.fill(0.0)\n",
    "    start_time = time()\n",
    "\n",
    "    globalrange = (N, N)\n",
    "    localrange = None\n",
    "\n",
    "    mmul(queue, globalrange, localrange, N, d_a, d_b, d_c)\n",
    "    queue.finish()\n",
    "\n",
    "    run_time = time() - start_time\n",
    "\n",
    "    cl.enqueue_copy(queue, h_C, d_c)\n",
    "    results(N, h_C, run_time)"
   ]
  },
  {
   "cell_type": "code",
   "execution_count": 23,
   "metadata": {},
   "outputs": [
    {
     "data": {
      "text/plain": [
       "array([15360., 15360., 15360., ..., 15360., 15360., 15360.], dtype=float32)"
      ]
     },
     "execution_count": 23,
     "metadata": {},
     "output_type": "execute_result"
    }
   ],
   "source": [
    "h_C"
   ]
  },
  {
   "cell_type": "code",
   "execution_count": null,
   "metadata": {},
   "outputs": [],
   "source": []
  }
 ],
 "metadata": {
  "kernelspec": {
   "display_name": "Python 3",
   "language": "python",
   "name": "python3"
  },
  "language_info": {
   "codemirror_mode": {
    "name": "ipython",
    "version": 3
   },
   "file_extension": ".py",
   "mimetype": "text/x-python",
   "name": "python",
   "nbconvert_exporter": "python",
   "pygments_lexer": "ipython3",
   "version": "3.8.3"
  }
 },
 "nbformat": 4,
 "nbformat_minor": 4
}
